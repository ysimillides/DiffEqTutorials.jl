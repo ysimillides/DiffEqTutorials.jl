{
 "cells": [
  {
   "cell_type": "markdown",
   "metadata": {},
   "source": [
    "This small tutorial demonstrates the usability of the FEniCS.jl wrapper. While the tutorial can be read on its own, a good addition to the tutorial can be found directly from the FEniCS website ( https://fenicsproject.org/documentation/)"
   ]
  },
  {
   "cell_type": "code",
   "execution_count": 1,
   "metadata": {},
   "outputs": [
    {
     "data": {
      "text/plain": [
       "3-element Array{Any,1}:\n",
       " \"/home/ysimillides/Downloads/julia-903644385b/local/share/julia/site/v0.6\"\n",
       " \"/home/ysimillides/Downloads/julia-903644385b/share/julia/site/v0.6\"      \n",
       " \"/home/ysimillides/Downloads/FEniCS.jl/src\"                               "
      ]
     },
     "execution_count": 1,
     "metadata": {},
     "output_type": "execute_result"
    }
   ],
   "source": [
    "push!(LOAD_PATH,\"/home/ysimillides/Downloads/FEniCS.jl/src\")"
   ]
  },
  {
   "cell_type": "code",
   "execution_count": 2,
   "metadata": {},
   "outputs": [
    {
     "name": "stderr",
     "output_type": "stream",
     "text": [
      "WARNING: imported binding for Function overwritten in module FEniCS\n"
     ]
    }
   ],
   "source": [
    "using FEniCS\n"
   ]
  },
  {
   "cell_type": "markdown",
   "metadata": {},
   "source": [
    "The below command defines our mesh. Our current implemented meshes are :\n",
    "UnitTriangleMesh, UnitTetrahedronMesh, UnitSquareMesh, UnitQuadMesh,\n",
    "UnitIntervalMesh, UnitCubeMesh, BoxMesh, RectangleMesh.\n",
    "Furthermore, we can also created custom meshes from .xml files with the command Mesh\n"
   ]
  },
  {
   "cell_type": "code",
   "execution_count": 3,
   "metadata": {},
   "outputs": [
    {
     "data": {
      "text/plain": [
       "\"<Mesh of topological dimension 2 (triangles) with 81 vertices and 128 cells, ordered>\""
      ]
     },
     "execution_count": 3,
     "metadata": {},
     "output_type": "execute_result"
    }
   ],
   "source": [
    "mesh = UnitSquareMesh(8,8)"
   ]
  },
  {
   "cell_type": "markdown",
   "metadata": {},
   "source": [
    "The below command defines our function space."
   ]
  },
  {
   "cell_type": "code",
   "execution_count": 4,
   "metadata": {},
   "outputs": [
    {
     "data": {
      "text/plain": [
       "\"<Function space of dimension 81 (<CG1 on a triangle>)>\""
      ]
     },
     "execution_count": 4,
     "metadata": {},
     "output_type": "execute_result"
    }
   ],
   "source": [
    "V = FunctionSpace(mesh,\"P\",1)"
   ]
  },
  {
   "cell_type": "markdown",
   "metadata": {},
   "source": [
    "Expressions can be used as coefficients in variational forms, for the Boundary Conditions, or to check the validity of our result. For full details , see  https://fenicsproject.org/olddocs/dolfin/2016.2.0/python/programmers-reference/functions/expression/Expression.html"
   ]
  },
  {
   "cell_type": "code",
   "execution_count": 5,
   "metadata": {},
   "outputs": [
    {
     "data": {
      "text/plain": [
       "\"f_4\""
      ]
     },
     "execution_count": 5,
     "metadata": {},
     "output_type": "execute_result"
    }
   ],
   "source": [
    "u_D = Expression(\"1+x[0]*x[0]+2*x[1]*x[1]\",degree=2  )"
   ]
  },
  {
   "cell_type": "markdown",
   "metadata": {},
   "source": [
    "The following commands are used to setup our (Poisson) Problem."
   ]
  },
  {
   "cell_type": "code",
   "execution_count": 6,
   "metadata": {},
   "outputs": [
    {
     "data": {
      "text/plain": [
       "\"v_1\""
      ]
     },
     "execution_count": 6,
     "metadata": {},
     "output_type": "execute_result"
    }
   ],
   "source": [
    "u=TrialFunction(V)\n"
   ]
  },
  {
   "cell_type": "code",
   "execution_count": 7,
   "metadata": {},
   "outputs": [
    {
     "data": {
      "text/plain": [
       "\"<DOLFIN object x (unnamed data)>\""
      ]
     },
     "execution_count": 7,
     "metadata": {},
     "output_type": "execute_result"
    }
   ],
   "source": [
    "bc1 = DirichletBC(V,u_D, \"on_boundary\")"
   ]
  },
  {
   "cell_type": "code",
   "execution_count": 8,
   "metadata": {},
   "outputs": [
    {
     "data": {
      "text/plain": [
       "\"v_0\""
      ]
     },
     "execution_count": 8,
     "metadata": {},
     "output_type": "execute_result"
    }
   ],
   "source": [
    "v=TestFunction(V)\n"
   ]
  },
  {
   "cell_type": "code",
   "execution_count": 9,
   "metadata": {},
   "outputs": [
    {
     "data": {
      "text/plain": [
       "\"Constant(-6.0)\""
      ]
     },
     "execution_count": 9,
     "metadata": {},
     "output_type": "execute_result"
    }
   ],
   "source": [
    "f=Constant(-6.0)\n"
   ]
  },
  {
   "cell_type": "code",
   "execution_count": 10,
   "metadata": {},
   "outputs": [
    {
     "data": {
      "text/plain": [
       "\"{ (grad(v_1)) . (grad(v_0)) } * dx(<Mesh #0>[everywhere], {})\""
      ]
     },
     "execution_count": 10,
     "metadata": {},
     "output_type": "execute_result"
    }
   ],
   "source": [
    "a = dot(grad(u),grad(v))*dx\n"
   ]
  },
  {
   "cell_type": "code",
   "execution_count": 11,
   "metadata": {},
   "outputs": [
    {
     "data": {
      "text/plain": [
       "\"{ v_0 * Constant(-6.0) } * dx(<Mesh #0>[everywhere], {})\""
      ]
     },
     "execution_count": 11,
     "metadata": {},
     "output_type": "execute_result"
    }
   ],
   "source": [
    "L = f*v*dx\n"
   ]
  },
  {
   "cell_type": "code",
   "execution_count": 12,
   "metadata": {},
   "outputs": [
    {
     "data": {
      "text/plain": [
       "\"f_7\""
      ]
     },
     "execution_count": 12,
     "metadata": {},
     "output_type": "execute_result"
    }
   ],
   "source": [
    "U = FEniCS.Function(V)\n"
   ]
  },
  {
   "cell_type": "markdown",
   "metadata": {},
   "source": [
    "After setting up our problem, we wish to solve it. Our current solvers are \n",
    "\n",
    "lvsolve : is the linear variational solver,\n",
    "\n",
    "nlvsolve : is the non-linear variational solver,\n",
    "\n",
    "anlvsolve : corresponds to the adapative non-linear solver."
   ]
  },
  {
   "cell_type": "code",
   "execution_count": 13,
   "metadata": {},
   "outputs": [
    {
     "name": "stdout",
     "output_type": "stream",
     "text": [
      "Solving linear variational problem.\n"
     ]
    }
   ],
   "source": [
    "lvsolve(a,L,U,bc1)"
   ]
  },
  {
   "cell_type": "markdown",
   "metadata": {},
   "source": [
    "After calculating our solution, we may wish to see the error of the solution in a certain norm. By default, we use the L2 norm."
   ]
  },
  {
   "cell_type": "code",
   "execution_count": 14,
   "metadata": {},
   "outputs": [
    {
     "name": "stdout",
     "output_type": "stream",
     "text": [
      "*** Warning: Degree of exact solution may be inadequate for accurate result in errornorm.\n"
     ]
    },
    {
     "data": {
      "text/plain": [
       "0.00823509807335492"
      ]
     },
     "execution_count": 14,
     "metadata": {},
     "output_type": "execute_result"
    }
   ],
   "source": [
    "errornorm(u_D,U,norm=\"L2\")\n"
   ]
  },
  {
   "cell_type": "markdown",
   "metadata": {},
   "source": [
    "We can also access the arrays created to setup or problem, or the solution array directly with the function get_array. (these may technically be 1 dimensional vectors, but can be reshaped as necessary)"
   ]
  },
  {
   "cell_type": "code",
   "execution_count": 15,
   "metadata": {},
   "outputs": [
    {
     "data": {
      "text/plain": [
       "81-element Array{Float64,1}:\n",
       " -0.015625\n",
       " -0.046875\n",
       " -0.046875\n",
       " -0.046875\n",
       " -0.09375 \n",
       " -0.046875\n",
       " -0.046875\n",
       " -0.09375 \n",
       " -0.09375 \n",
       " -0.046875\n",
       " -0.046875\n",
       " -0.09375 \n",
       " -0.09375 \n",
       "  ⋮       \n",
       " -0.09375 \n",
       " -0.046875\n",
       " -0.046875\n",
       " -0.09375 \n",
       " -0.09375 \n",
       " -0.046875\n",
       " -0.046875\n",
       " -0.09375 \n",
       " -0.046875\n",
       " -0.046875\n",
       " -0.046875\n",
       " -0.015625"
      ]
     },
     "execution_count": 15,
     "metadata": {},
     "output_type": "execute_result"
    }
   ],
   "source": [
    "get_array(L)"
   ]
  },
  {
   "cell_type": "code",
   "execution_count": 16,
   "metadata": {},
   "outputs": [
    {
     "data": {
      "text/plain": [
       "81-element Array{Float64,1}:\n",
       " 3.0    \n",
       " 2.53125\n",
       " 3.01563\n",
       " 2.125  \n",
       " 2.54688\n",
       " 3.0625 \n",
       " 1.78125\n",
       " 2.14062\n",
       " 2.59375\n",
       " 3.14063\n",
       " 1.5    \n",
       " 1.79687\n",
       " 2.1875 \n",
       " ⋮      \n",
       " 2.04687\n",
       " 2.5    \n",
       " 1.39063\n",
       " 1.59375\n",
       " 1.89062\n",
       " 2.28125\n",
       " 1.5625 \n",
       " 1.79687\n",
       " 2.125  \n",
       " 1.76563\n",
       " 2.03125\n",
       " 2.0    "
      ]
     },
     "execution_count": 16,
     "metadata": {},
     "output_type": "execute_result"
    }
   ],
   "source": [
    "get_array(U)"
   ]
  },
  {
   "cell_type": "markdown",
   "metadata": {
    "collapsed": true
   },
   "source": [
    "We may wish to save our solution. We can do this as follows"
   ]
  },
  {
   "cell_type": "code",
   "execution_count": 17,
   "metadata": {},
   "outputs": [
    {
     "data": {
      "text/plain": [
       "PyObject None"
      ]
     },
     "execution_count": 17,
     "metadata": {},
     "output_type": "execute_result"
    }
   ],
   "source": [
    "filex = File(\"/home/ysimillides/Downloads/FEniCS.jl/src/solution.pvd\")\n",
    "filex << U.pyobject\n"
   ]
  },
  {
   "cell_type": "code",
   "execution_count": null,
   "metadata": {
    "collapsed": true
   },
   "outputs": [],
   "source": []
  }
 ],
 "metadata": {
  "kernelspec": {
   "display_name": "Julia 0.6.0",
   "language": "julia",
   "name": "julia-0.6"
  },
  "language_info": {
   "file_extension": ".jl",
   "mimetype": "application/julia",
   "name": "julia",
   "version": "0.6.0"
  }
 },
 "nbformat": 4,
 "nbformat_minor": 2
}
